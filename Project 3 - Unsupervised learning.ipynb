{
 "cells": [
  {
   "cell_type": "code",
   "execution_count": 1,
   "metadata": {},
   "outputs": [],
   "source": [
    "import pandas as pd\n",
    "import numpy as np\n",
    "import matplotlib.pyplot as plt\n",
    "import time\n",
    "from sklearn.tree import DecisionTreeClassifier\n",
    "from sklearn.svm import SVC, LinearSVC\n",
    "from sklearn.neighbors import KNeighborsClassifier\n",
    "from sklearn.neural_network import MLPClassifier\n",
    "import xgboost as xgb\n",
    "from sklearn.model_selection import validation_curve\n",
    "from sklearn.model_selection import learning_curve\n",
    "from sklearn.model_selection import cross_val_score\n",
    "from sklearn.model_selection import ShuffleSplit\n",
    "from sklearn import preprocessing"
   ]
  },
  {
   "cell_type": "code",
   "execution_count": 2,
   "metadata": {},
   "outputs": [],
   "source": [
    "LABEL_COLOR_MAP = {\n",
    "\t0: 'b',\n",
    "\t1: 'g',\n",
    "\t2: 'r',\n",
    "\t3: 'c',\n",
    "\t4: 'm',\n",
    "\t5: 'y',\n",
    "\t6: 'k',\n",
    "\t7: 'b',\n",
    "\t8: 'g',\n",
    "\t9: 'r',\n",
    "\t10: 'c',\n",
    "\t11: 'm',\n",
    "\t12: 'y',\n",
    "\t13: 'k',\n",
    "\t14: 'b',\n",
    "\t15: 'g',\n",
    "\t16: 'r',\n",
    "\t17: 'c',\n",
    "\t18: 'm',\n",
    "\t19: 'y',\n",
    "\t20: 'k',\n",
    "\t21: 'b',\n",
    "\t22: 'g',\n",
    "\t23: 'r',\n",
    "\t24: 'c',\n",
    "\t25: 'm',\n",
    "\t26: 'y',\n",
    "\t27: 'k',\n",
    "\t28: 'b',\n",
    "\t29: 'g',\n",
    "\t30: 'r'\n",
    "}\n",
    "\n",
    "def train_and_get_stats(clf, X_train, Y_train, X_test, Y_test):\n",
    "    start = time.time()\n",
    "    clf.fit(X_train, Y_train)\n",
    "    end = time.time()\n",
    "    training_time = end - start\n",
    "    \n",
    "    start = time.time()\n",
    "    train_acc = clf.score(X_train, Y_train)\n",
    "    end = time.time()\n",
    "    train_score_time = end - start\n",
    "    \n",
    "    start = time.time()\n",
    "    test_acc = clf.score(X_test, Y_test)\n",
    "    end = time.time()\n",
    "    test_score_time = end - start\n",
    "    \n",
    "    cv_scores_train = cross_val_score(clf, X_train, Y_train, cv=5)\n",
    "    cv_scores_test = cross_val_score(clf, X_test, Y_test, cv=5)\n",
    "    \n",
    "    return {\n",
    "        'train_time': training_time,\n",
    "        'train_acc': train_acc,\n",
    "        'test_acc': test_acc,\n",
    "        'train_score_time': train_score_time,\n",
    "        'test_score_time': test_score_time,\n",
    "        'cv_scores_train': cv_scores_train,\n",
    "        'cv_scores_test': cv_scores_test\n",
    "    }\n",
    "\n",
    "\n",
    "def plot_training_curve(estimator, title, X, y, ylim=None, cv=None,\n",
    "                        n_jobs=None, fig_size=(10, 10), train_sizes=np.linspace(.1, 1.0, 10)):\n",
    "    plt.figure(figsize=fig_size)\n",
    "    plt.title(title)\n",
    "    if ylim is not None:\n",
    "        plt.set_ylim(*ylim)\n",
    "    plt.xlabel(\"Training examples\")\n",
    "    plt.ylabel(\"Score\")\n",
    "\n",
    "    train_sizes, train_scores, test_scores, fit_times, _ = \\\n",
    "        learning_curve(estimator, X, y, cv=cv, n_jobs=n_jobs,\n",
    "                       train_sizes=train_sizes,\n",
    "                       return_times=True)\n",
    "    train_scores_mean = np.mean(train_scores, axis=1)\n",
    "    train_scores_std = np.std(train_scores, axis=1)\n",
    "    test_scores_mean = np.mean(test_scores, axis=1)\n",
    "    test_scores_std = np.std(test_scores, axis=1)\n",
    "    fit_times_mean = np.mean(fit_times, axis=1)\n",
    "    fit_times_std = np.std(fit_times, axis=1)\n",
    "    \n",
    "    # Plot learning curve\n",
    "    plt.grid()\n",
    "    plt.fill_between(train_sizes, train_scores_mean - train_scores_std,\n",
    "                         train_scores_mean + train_scores_std, alpha=0.1,\n",
    "                         color=\"r\")\n",
    "    plt.fill_between(train_sizes, test_scores_mean - test_scores_std,\n",
    "                         test_scores_mean + test_scores_std, alpha=0.1,\n",
    "                         color=\"g\")\n",
    "    plt.plot(train_sizes, train_scores_mean, 'o-', color=\"r\",\n",
    "                 label=\"Training score\")\n",
    "    plt.plot(train_sizes, test_scores_mean, 'o-', color=\"g\",\n",
    "                 label=\"Test score\")\n",
    "    plt.legend(loc=\"best\")\n",
    "    \n",
    "\n",
    "def plot_validation_curve(clf, param_name, param_range, X_train, Y_train, title='Validation Curve', cv=5, n_jobs=1):\n",
    "    train_scores, test_scores = validation_curve(\n",
    "        clf, \n",
    "        X_train, \n",
    "        Y_train, \n",
    "        param_name=param_name, \n",
    "        param_range=param_range, \n",
    "        cv=cv,\n",
    "        n_jobs=n_jobs, \n",
    "        scoring = \"accuracy\"\n",
    "    )\n",
    "\n",
    "    plt.figure(figsize=(10, 10))\n",
    "    plt.title(title, fontsize=20)\n",
    "    plt.xlabel(param_name, fontsize=15)\n",
    "    plt.ylabel(\"Score\", fontsize=15)\n",
    "    train_scores_mean = np.mean(train_scores, axis=1)\n",
    "    train_scores_std = np.std(train_scores, axis=1)\n",
    "    test_scores_mean = np.mean(test_scores, axis=1)\n",
    "    test_scores_std = np.std(test_scores, axis=1)\n",
    "    lw = 2\n",
    "    plt.semilogx(param_range, train_scores_mean, label=\"Training score\",\n",
    "                 color=\"darkorange\", lw=lw)\n",
    "    plt.semilogx(param_range, test_scores_mean, label=\"Test score\",\n",
    "                 color=\"navy\", lw=lw)\n",
    "    plt.legend(loc=\"best\")\n",
    "    plt.show()"
   ]
  },
  {
   "cell_type": "code",
   "execution_count": 3,
   "metadata": {},
   "outputs": [
    {
     "name": "stdout",
     "output_type": "stream",
     "text": [
      "{'race', 'fnlwgt', 'education', 'native-country', 'relationship', 'age', 'education-num', 'capital-gain', 'workclass', 'marital-status', 'hours-per-week', 'sex', 'capital-loss', 'occupation'}\n"
     ]
    }
   ],
   "source": [
    "data = pd.read_csv('data/adult.data')\n",
    "test = pd.read_csv('data/adult.test')\n",
    "data.dropna(inplace=True)\n",
    "# get discrete class columns from data, and one hot encode\n",
    "discrete_classes = ['workclass',\n",
    "                    'education', \n",
    "                    'sex',\n",
    "                    'marital-status',\n",
    "                    'occupation',\n",
    "                    'relationship', \n",
    "                    'native-country',\n",
    "                    'race', \n",
    "                    'salary-class']\n",
    "\n",
    "x_keys = set(data.keys()) - set(['salary-class']) & set(test.keys()) - set(['salary-class'])\n",
    "y_keys = set(['salary-class'])\n",
    "\n",
    "cont_keys = x_keys - set(discrete_classes)\n",
    "\n",
    "X_train = data[x_keys]\n",
    "X_test = test[x_keys]\n",
    "\n",
    "Y_train = data[y_keys].to_numpy().ravel()\n",
    "Y_test = test[y_keys].to_numpy().ravel()\n",
    "\n",
    "print(x_keys)"
   ]
  },
  {
   "cell_type": "code",
   "execution_count": 4,
   "metadata": {},
   "outputs": [
    {
     "data": {
      "text/plain": [
       "Index(['PAY_6', 'PAY_AMT3', 'BILL_AMT1', 'BILL_AMT6', 'PAY_AMT6', 'PAY_0',\n",
       "       'LIMIT_BAL', 'PAY_AMT5', 'PAY_AMT1', 'PAY_4', 'PAY_AMT2', 'BILL_AMT5',\n",
       "       'MARRIAGE', 'PAY_3', 'PAY_AMT4', 'PAY_5', 'EDUCATION', 'AGE', 'PAY_2',\n",
       "       'BILL_AMT2', 'BILL_AMT4', 'BILL_AMT3', 'SEX'],\n",
       "      dtype='object')"
      ]
     },
     "execution_count": 4,
     "metadata": {},
     "output_type": "execute_result"
    }
   ],
   "source": [
    "data2 = pd.read_csv('data/UCI_Credit_Card.csv')\n",
    "target_column = ['default.payment.next.month']\n",
    "data2.dropna(inplace=True)\n",
    "\n",
    "data2.loc[(data2.SEX == 1), 'SEX'] = 'male'\n",
    "data2.loc[(data2.SEX == 2), 'SEX'] = 'female'\n",
    "\n",
    "data2.drop(index=data2.index[data2['EDUCATION'] == 0], inplace=True)\n",
    "data2.loc[(data2.EDUCATION == 1), 'EDUCATION'] = 'graduate school'\n",
    "data2.loc[(data2.EDUCATION == 2), 'EDUCATION'] = 'university'\n",
    "data2.loc[(data2.EDUCATION == 3), 'EDUCATION'] = 'high school'\n",
    "data2.loc[(data2.EDUCATION == 4), 'EDUCATION'] = 'others'\n",
    "data2.loc[(data2.EDUCATION == 5), 'EDUCATION'] = 'unknown'\n",
    "data2.loc[(data2.EDUCATION == 6), 'EDUCATION'] = 'unknown'\n",
    "\n",
    "data2.drop(index=data2.index[data2['MARRIAGE'] == 0], inplace=True)\n",
    "data2.loc[(data2.MARRIAGE == 1), 'MARRIAGE'] = 'married'\n",
    "data2.loc[(data2.MARRIAGE == 1), 'MARRIAGE'] = 'married'\n",
    "data2.loc[(data2.MARRIAGE == 2), 'MARRIAGE'] = 'single'\n",
    "data2.loc[(data2.MARRIAGE == 3), 'MARRIAGE'] = 'others'\n",
    "\n",
    "data2.drop(columns=['ID'], inplace=True)\n",
    "\n",
    "discerete_columns = [\n",
    "    'SEX',\n",
    "    'EDUCATION',\n",
    "    'MARRIAGE'\n",
    "]\n",
    "\n",
    "x_keys2 = set(data2.keys()) - set(target_column) & set(data2.keys()) - set(target_column)\n",
    "y_keys2 = set(target_column)\n",
    "\n",
    "cont_keys2 = x_keys2 - set(discerete_columns)\n",
    "\n",
    "first_split = data2.sample(frac=0.6,random_state=200)\n",
    "second_split = data2.drop(first_split.index)\n",
    "\n",
    "X_train2 = first_split[x_keys2]\n",
    "Y_train2 = first_split[y_keys2].to_numpy().ravel()\n",
    "\n",
    "X_test2 = second_split[x_keys2]\n",
    "Y_test2 = second_split[y_keys2].to_numpy().ravel()"
   ]
  },
  {
   "cell_type": "code",
   "execution_count": 5,
   "metadata": {},
   "outputs": [
    {
     "name": "stdout",
     "output_type": "stream",
     "text": [
      "Col sex: \n",
      " {0: ' Female', 1: ' Male'}\n",
      "Col relationship: \n",
      " {0: ' Husband', 1: ' Not-in-family', 2: ' Other-relative', 3: ' Own-child', 4: ' Unmarried', 5: ' Wife'}\n",
      "Col workclass: \n",
      " {0: ' ?', 1: ' Federal-gov', 2: ' Local-gov', 3: ' Never-worked', 4: ' Private', 5: ' Self-emp-inc', 6: ' Self-emp-not-inc', 7: ' State-gov', 8: ' Without-pay'}\n",
      "Col education: \n",
      " {0: ' 10th', 1: ' 11th', 2: ' 12th', 3: ' 1st-4th', 4: ' 5th-6th', 5: ' 7th-8th', 6: ' 9th', 7: ' Assoc-acdm', 8: ' Assoc-voc', 9: ' Bachelors', 10: ' Doctorate', 11: ' HS-grad', 12: ' Masters', 13: ' Preschool', 14: ' Prof-school', 15: ' Some-college'}\n",
      "Col occupation: \n",
      " {0: ' ?', 1: ' Adm-clerical', 2: ' Armed-Forces', 3: ' Craft-repair', 4: ' Exec-managerial', 5: ' Farming-fishing', 6: ' Handlers-cleaners', 7: ' Machine-op-inspct', 8: ' Other-service', 9: ' Priv-house-serv', 10: ' Prof-specialty', 11: ' Protective-serv', 12: ' Sales', 13: ' Tech-support', 14: ' Transport-moving'}\n",
      "Col race: \n",
      " {0: ' Amer-Indian-Eskimo', 1: ' Asian-Pac-Islander', 2: ' Black', 3: ' Other', 4: ' White'}\n",
      "Col marital-status: \n",
      " {0: ' Divorced', 1: ' Married-AF-spouse', 2: ' Married-civ-spouse', 3: ' Married-spouse-absent', 4: ' Never-married', 5: ' Separated', 6: ' Widowed'}\n",
      "Col native-country: \n",
      " {0: ' ?', 1: ' Cambodia', 2: ' Canada', 3: ' China', 4: ' Columbia', 5: ' Cuba', 6: ' Dominican-Republic', 7: ' Ecuador', 8: ' El-Salvador', 9: ' England', 10: ' France', 11: ' Germany', 12: ' Greece', 13: ' Guatemala', 14: ' Haiti', 15: ' Holand-Netherlands', 16: ' Honduras', 17: ' Hong', 18: ' Hungary', 19: ' India', 20: ' Iran', 21: ' Ireland', 22: ' Italy', 23: ' Jamaica', 24: ' Japan', 25: ' Laos', 26: ' Mexico', 27: ' Nicaragua', 28: ' Outlying-US(Guam-USVI-etc)', 29: ' Peru', 30: ' Philippines', 31: ' Poland', 32: ' Portugal', 33: ' Puerto-Rico', 34: ' Scotland', 35: ' South', 36: ' Taiwan', 37: ' Thailand', 38: ' Trinadad&Tobago', 39: ' United-States', 40: ' Vietnam', 41: ' Yugoslavia'}\n",
      "Col MARRIAGE: \n",
      " {0: 'married', 1: 'others', 2: 'single'}\n",
      "Col SEX: \n",
      " {0: 'female', 1: 'male'}\n",
      "Col EDUCATION: \n",
      " {0: 'graduate school', 1: 'high school', 2: 'others', 3: 'university', 4: 'unknown'}\n"
     ]
    },
    {
     "name": "stderr",
     "output_type": "stream",
     "text": [
      "/usr/local/lib/python3.8/site-packages/pandas/core/frame.py:3607: SettingWithCopyWarning: \n",
      "A value is trying to be set on a copy of a slice from a DataFrame.\n",
      "Try using .loc[row_indexer,col_indexer] = value instead\n",
      "\n",
      "See the caveats in the documentation: https://pandas.pydata.org/pandas-docs/stable/user_guide/indexing.html#returning-a-view-versus-a-copy\n",
      "  self._set_item(key, value)\n"
     ]
    }
   ],
   "source": [
    "labeled_cols = ['sex', 'relationship', 'workclass', 'education', 'occupation', 'race', 'marital-status', 'native-country']\n",
    "\n",
    "for col in labeled_cols:\n",
    "    le = preprocessing.LabelEncoder()\n",
    "    le.fit(X_train[col])\n",
    "    X_train[col] = le.transform(X_train[col])\n",
    "    X_test[col] = le.transform(X_test[col])\n",
    "    class_map = {i: le.inverse_transform([i])[0] for i in range(len(le.classes_))}\n",
    "    print(f'Col {col}: \\n {class_map}')\n",
    "    \n",
    "le = preprocessing.LabelEncoder()\n",
    "le.fit(Y_train)\n",
    "Y_train = le.transform(Y_train)\n",
    "Y_test = le.transform(Y_test)\n",
    "\n",
    "labeled_cols = ['MARRIAGE', 'SEX', 'EDUCATION']\n",
    "\n",
    "for col in labeled_cols:\n",
    "    le = preprocessing.LabelEncoder()\n",
    "    le.fit(X_train2[col])\n",
    "    X_train2[col] = le.transform(X_train2[col])\n",
    "    X_test2[col] = le.transform(X_test2[col])\n",
    "    class_map = {i: le.inverse_transform([i])[0] for i in range(len(le.classes_))}\n",
    "#     print(f'Col {col}: \\n {class_map}')\n",
    "    \n"
   ]
  },
  {
   "cell_type": "code",
   "execution_count": 6,
   "metadata": {},
   "outputs": [],
   "source": [
    "from sklearn.cluster import KMeans\n",
    "from sklearn.mixture import GaussianMixture\n",
    "from sklearn.decomposition import PCA\n",
    "from sklearn.decomposition import FastICA\n",
    "from sklearn.random_projection import GaussianRandomProjection\n",
    "from sklearn.decomposition import LatentDirichletAllocation\n",
    "from sklearn.decomposition import TruncatedSVD\n",
    "from sklearn.decomposition import FactorAnalysis"
   ]
  },
  {
   "cell_type": "markdown",
   "metadata": {},
   "source": [
    "# Kmeans clustering"
   ]
  },
  {
   "cell_type": "markdown",
   "metadata": {},
   "source": [
    "## Dataset 1"
   ]
  },
  {
   "cell_type": "code",
   "execution_count": null,
   "metadata": {},
   "outputs": [],
   "source": [
    "kmean_1 = KMeans(n_clusters=2, random_state=0).fit(X_train)\n",
    "centers = kmean_1.cluster_centers_\n",
    "y_pred = kmean_1.predict(X_train)"
   ]
  },
  {
   "cell_type": "code",
   "execution_count": null,
   "metadata": {},
   "outputs": [],
   "source": [
    "y_pred = ['b' if _ == 0 else 'r' for _ in y_pred]\n",
    "# y_pred = ['b' if _ == 0 else 'r' for _ in Y_train]"
   ]
  },
  {
   "cell_type": "code",
   "execution_count": null,
   "metadata": {},
   "outputs": [],
   "source": [
    "num_features = len(cont_keys)\n",
    "\n",
    "for i in x_keys - cont_keys:\n",
    "    for j in cont_keys:\n",
    "        plt.figure(figsize=(20,20))\n",
    "        plt.scatter(X_train[i], X_train[j], c=y_pred, alpha=0.4)\n",
    "        plt.title(f'Feature {i}, Feature {j}')\n",
    "        plt.plot()\n",
    "        plt.savefig(f'images/kmeans/gt_ds1/fig_features_{i}_{j}.png')\n",
    "#         plt.show()\n",
    "        plt.close()"
   ]
  },
  {
   "cell_type": "markdown",
   "metadata": {},
   "source": [
    "## Dataset 2"
   ]
  },
  {
   "cell_type": "code",
   "execution_count": null,
   "metadata": {},
   "outputs": [],
   "source": [
    "kmean_2 = KMeans(n_clusters=2, random_state=0).fit(X_train2)\n",
    "centers = kmean_2.cluster_centers_\n",
    "y_pred2 = kmean_2.predict(X_train2)\n",
    "\n",
    "num_features = len(cont_keys2)\n",
    "\n",
    "plt.figure(figsize=(20,20))\n",
    "plt.scatter(X_train2['MARRIAGE'], X_train2['BILL_AMT2'], c=y_pred2, alpha=0.4)\n",
    "plt.scatter(kmean_2.cluster_centers_[:,0], kmean_2.cluster_centers_[:,1], c=\"r\", alpha=1)\n",
    "plt.title(f'Feature {i}, Feature {j}')\n",
    "plt.plot()\n",
    "plt.savefig(f'images/kmeans/gt_ds2/fig_features_{i}_{j}.png')\n",
    "plt.show()\n",
    "plt.close()"
   ]
  },
  {
   "cell_type": "code",
   "execution_count": null,
   "metadata": {},
   "outputs": [],
   "source": [
    "y_pred2 = ['b' if _ == 0 else 'r' for _ in y_pred2]\n",
    "# y_pred2 = ['b' if _ == 0 else 'r' for _ in Y_train2]"
   ]
  },
  {
   "cell_type": "code",
   "execution_count": null,
   "metadata": {},
   "outputs": [],
   "source": [
    "num_features = len(cont_keys2)\n",
    "\n",
    "for i in x_keys2 - cont_keys2:\n",
    "    for j in cont_keys2:\n",
    "        plt.figure(figsize=(20,20))\n",
    "        plt.scatter(X_train2[i], X_train2[j], c=y_pred2, alpha=0.4)\n",
    "        plt.title(f'Feature {i}, Feature {j}')\n",
    "        plt.plot()\n",
    "        plt.savefig(f'images/kmeans/gt_ds2/fig_features_{i}_{j}.png')\n",
    "#         plt.show()\n",
    "        plt.close()"
   ]
  },
  {
   "cell_type": "markdown",
   "metadata": {},
   "source": [
    "# Expectation maximization"
   ]
  },
  {
   "cell_type": "markdown",
   "metadata": {},
   "source": [
    "## Dataset 1"
   ]
  },
  {
   "cell_type": "code",
   "execution_count": null,
   "metadata": {},
   "outputs": [],
   "source": [
    "gm = GaussianMixture(n_components=2, random_state=0).fit(X_train)\n",
    "y_pred = gm.predict(X_train)"
   ]
  },
  {
   "cell_type": "code",
   "execution_count": null,
   "metadata": {},
   "outputs": [],
   "source": [
    "y_pred = ['b' if _ == 0 else 'r' for _ in y_pred]"
   ]
  },
  {
   "cell_type": "code",
   "execution_count": null,
   "metadata": {},
   "outputs": [],
   "source": [
    "num_features = len(cont_keys)\n",
    "\n",
    "for i in x_keys - cont_keys:\n",
    "    for j in cont_keys:\n",
    "        plt.figure(figsize=(20,20))\n",
    "        plt.scatter(X_train[i], X_train[j], c=y_pred, alpha=0.4)\n",
    "        plt.title(f'Feature {i}, Feature {j}')\n",
    "        plt.plot()\n",
    "        plt.savefig(f'images/GaussianMixture/gm1/fig_features_{i}_{j}.png')\n",
    "#         plt.show()\n",
    "        plt.close()"
   ]
  },
  {
   "cell_type": "markdown",
   "metadata": {},
   "source": [
    "## Dataset 2"
   ]
  },
  {
   "cell_type": "code",
   "execution_count": null,
   "metadata": {},
   "outputs": [],
   "source": [
    "gm2 = GaussianMixture(n_components=2, random_state=0).fit(X_train2)\n",
    "y_pred2 = gm2.predict(X_train2)"
   ]
  },
  {
   "cell_type": "code",
   "execution_count": null,
   "metadata": {},
   "outputs": [],
   "source": [
    "kmean_2 = GaussianMixture(n_components=2, random_state=0).fit(X_train2[['MARRIAGE', 'BILL_AMT2']])\n",
    "y_pred2 = kmean_2.predict(X_train2[['MARRIAGE', 'BILL_AMT2']])\n",
    "\n",
    "num_features = len(cont_keys2)\n",
    "\n",
    "plt.figure(figsize=(20,20))\n",
    "plt.scatter(X_train2['MARRIAGE'], X_train2['BILL_AMT2'], c=y_pred2, alpha=0.4)\n",
    "plt.title(f'Feature {i}, Feature {j}')\n",
    "# plt.plot()\n",
    "plt.savefig(f'images/kmeans/gt_ds2/fig_features_{i}_{j}.png')\n",
    "plt.show()\n",
    "plt.close()"
   ]
  },
  {
   "cell_type": "code",
   "execution_count": null,
   "metadata": {},
   "outputs": [],
   "source": [
    "y_pred2 = ['b' if _ == 0 else 'r' for _ in y_pred2]"
   ]
  },
  {
   "cell_type": "code",
   "execution_count": null,
   "metadata": {},
   "outputs": [],
   "source": [
    "num_features = len(cont_keys2)\n",
    "\n",
    "for i in x_keys2 - cont_keys2:\n",
    "    for j in cont_keys2:\n",
    "        plt.figure(figsize=(20,20))\n",
    "        plt.scatter(X_train2[i], X_train2[j], c=y_pred2, alpha=0.4)\n",
    "        plt.title(f'Feature {i}, Feature {j}')\n",
    "        plt.plot()\n",
    "        plt.savefig(f'images/GaussianMixture/gm2/fig_features_{i}_{j}.png')\n",
    "#         plt.show()\n",
    "        plt.close()"
   ]
  },
  {
   "cell_type": "markdown",
   "metadata": {},
   "source": [
    "# Principle component analysis"
   ]
  },
  {
   "cell_type": "code",
   "execution_count": 7,
   "metadata": {},
   "outputs": [],
   "source": [
    "X_train = preprocessing.normalize(X_train, norm='l2')\n",
    "X_test = preprocessing.normalize(X_test, norm='l2')\n",
    "    \n",
    "X_train2 = preprocessing.normalize(X_train2, norm='l2')\n",
    "X_test2 = preprocessing.normalize(X_test2, norm='l2')"
   ]
  },
  {
   "cell_type": "markdown",
   "metadata": {},
   "source": [
    "## Dataset 1"
   ]
  },
  {
   "cell_type": "code",
   "execution_count": null,
   "metadata": {},
   "outputs": [],
   "source": [
    "pca = PCA(n_components=0.99, random_state=10)\n",
    "pca.fit(X_train)\n",
    "print(f'variance ratio ({pca.n_components_} components): {pca.explained_variance_ratio_}')"
   ]
  },
  {
   "cell_type": "code",
   "execution_count": null,
   "metadata": {
    "scrolled": true
   },
   "outputs": [],
   "source": [
    "for i in range(2, 13):\n",
    "    pca = PCA(n_components=i, random_state=10)\n",
    "    X_r = pca.fit_transform(X_train)\n",
    "    X_r_test = pca.transform(X_test)\n",
    "    print(f'explained variance ratio ({pca.n_components_} components): {pca.explained_variance_ratio_}')\n",
    "\n",
    "    for j in range(pca.n_components_):\n",
    "        plt.figure(figsize=(20,20))\n",
    "        for k in range(j+1, pca.n_components_):\n",
    "            plt.scatter(X_r[:, j], X_r[:, k], color=LABEL_COLOR_MAP[k], alpha=.5, label=f'features {j}, {k}')\n",
    "\n",
    "        if not j == k:\n",
    "            plt.legend()\n",
    "#             plt.show()\n",
    "            plt.savefig(f'images/pca/ds1/scatter/{i}_fig_features_{j}_{k}.png')\n",
    "        plt.close()"
   ]
  },
  {
   "cell_type": "code",
   "execution_count": null,
   "metadata": {},
   "outputs": [],
   "source": [
    "pca = PCA(n_components=0.99, random_state=10)\n",
    "X_r = pca.fit_transform(X_train)\n",
    "X_r_test = pca.transform(X_test)\n",
    "\n",
    "kmean_1 = KMeans(n_clusters=2, random_state=0).fit(X_r)\n",
    "centers = kmean_1.cluster_centers_\n",
    "y_pred = kmean_1.predict(X_r)\n",
    "\n",
    "y_pred = ['b' if _ == 0 else 'r' for _ in y_pred]\n",
    "for i in range(pca.n_components_):\n",
    "    for j in range(i+1, pca.n_components_):\n",
    "        plt.figure(figsize=(10,10))\n",
    "        plt.scatter(X_r[:, i], X_r[:, j], c=y_pred, alpha=0.4)\n",
    "        plt.title(f'Feature {i}, Feature {j}')\n",
    "        plt.plot()\n",
    "        plt.savefig(f'images/pca/ds1/kmeans/fig_features_{i}_{j}.png')\n",
    "#         plt.show()\n",
    "        plt.close()"
   ]
  },
  {
   "cell_type": "code",
   "execution_count": null,
   "metadata": {},
   "outputs": [],
   "source": [
    "from sklearn.metrics import mean_squared_error\n",
    "tmp = pca.inverse_transform(X_r)#np.abs(pca.inverse_transform(X_r) - X_train)\n",
    "mean_squared_error(tmp, X_train)"
   ]
  },
  {
   "cell_type": "code",
   "execution_count": 82,
   "metadata": {},
   "outputs": [
    {
     "name": "stdout",
     "output_type": "stream",
     "text": [
      "{'train_time': 4.759083032608032, 'train_acc': 0.7918982832222597, 'test_acc': 0.7931330999324366, 'train_score_time': 0.008090019226074219, 'test_score_time': 0.004014015197753906, 'cv_scores_train': array([0.79348994, 0.79115479, 0.79207617, 0.7919226 , 0.79530098]), 'cv_scores_test': array([0.79582438, 0.79269042, 0.79054054, 0.79146192, 0.79637592])}\n",
      "{'train_time': 2.582028865814209, 'train_acc': 0.7813352636561056, 'test_acc': 0.7741585233441911, 'train_score_time': 0.0038220882415771484, 'test_score_time': 0.002192974090576172, 'cv_scores_train': array([0.7814588 , 0.7814588 , 0.7811804 , 0.7811804 , 0.78139794]), 'cv_scores_test': array([0.77411273, 0.77411273, 0.77411273, 0.77443609, 0.77401838])}\n"
     ]
    }
   ],
   "source": [
    "pca = PCA(n_components=2, random_state=10)\n",
    "X_r = pca.fit_transform(X_train)\n",
    "X_r_test = pca.transform(X_test)\n",
    "\n",
    "nn_classifier = MLPClassifier(hidden_layer_sizes=(5, 5, 5), activation='relu', solver='adam', alpha=0.0001, random_state=1)\n",
    "nn_stats_pca_ds1 = train_and_get_stats(nn_classifier, X_r, Y_train, X_r_test, Y_test)\n",
    "print(nn_stats_pca_ds1)\n",
    "\n",
    "X_r2 = np.hstack((X_r2, y_pred[..., None]))\n",
    "X_r_test2 = np.hstack((X_r_test2, y_pred_test[..., None]))\n",
    "nn_classifier = MLPClassifier(hidden_layer_sizes=(5, 5, 5), activation='relu', solver='adam', alpha=0.0001, random_state=1)\n",
    "nn_stats_pca_kmeans_ds1 = train_and_get_stats(nn_classifier, X_r2, Y_train2, X_r_test2, Y_test2)\n",
    "print(nn_stats_pca_kmeans_ds1)\n"
   ]
  },
  {
   "cell_type": "markdown",
   "metadata": {},
   "source": [
    "## Dataset 2"
   ]
  },
  {
   "cell_type": "code",
   "execution_count": null,
   "metadata": {},
   "outputs": [],
   "source": [
    "pca = PCA(n_components=0.99, random_state=10)\n",
    "X_r2 = pca.fit_transform(X_train2)\n",
    "X_r_test2 = pca.transform(X_test2)\n",
    "print(f'explained variance ratio ({pca.n_components_} components): {pca.explained_variance_ratio_}')"
   ]
  },
  {
   "cell_type": "code",
   "execution_count": null,
   "metadata": {
    "scrolled": true
   },
   "outputs": [],
   "source": [
    "for i in range(2, 13):\n",
    "    pca = PCA(n_components=i, random_state=10)\n",
    "    X_r2 = pca.fit_transform(X_train2)\n",
    "    X_r_test2 = pca.transform(X_test2)\n",
    "    print(f'explained variance ratio ({pca.n_components_} components): {pca.explained_variance_ratio_}')\n",
    "\n",
    "    for j in range(pca.n_components_):\n",
    "        plt.figure(figsize=(20,20))\n",
    "        for k in range(j+1, pca.n_components_):\n",
    "            plt.scatter(X_r2[:, j], X_r2[:, k], color=LABEL_COLOR_MAP[k], alpha=.5, label=f'features {j}, {k}')\n",
    "           \n",
    "        if not j == k:\n",
    "            plt.legend()\n",
    "#             plt.show()\n",
    "            plt.savefig(f'images/pca/ds2/scatter/{i}_fig_features_{i}_{j}.png')\n",
    "        plt.close()"
   ]
  },
  {
   "cell_type": "code",
   "execution_count": null,
   "metadata": {
    "scrolled": true
   },
   "outputs": [],
   "source": [
    "pca = PCA(n_components=2, random_state=10)\n",
    "X_r2 = pca.fit_transform(X_train2)\n",
    "X_r_test2 = pca.transform(X_test2)\n",
    "\n",
    "kmean_2 = KMeans(n_clusters=2, random_state=0).fit(X_r2)\n",
    "centers = kmean_2.cluster_centers_\n",
    "y_pred = kmean_2.predict(X_r2)\n",
    "\n",
    "y_pred = ['b' if _ == 0 else 'r' for _ in y_pred]\n",
    "for i in range(pca.n_components_):\n",
    "    for j in range(i+1, pca.n_components_):\n",
    "        plt.figure(figsize=(10,10))\n",
    "        plt.scatter(X_r2[:, i], X_r2[:, j], c=y_pred, alpha=0.4)\n",
    "        plt.title(f'Feature {i}, Feature {j}')\n",
    "        plt.plot()\n",
    "        plt.savefig(f'images/pca/ds2/kmeans/fig_features_{i}_{j}.png')\n",
    "#         plt.show()\n",
    "        plt.close()"
   ]
  },
  {
   "cell_type": "code",
   "execution_count": null,
   "metadata": {},
   "outputs": [],
   "source": [
    "from sklearn.metrics import mean_squared_error\n",
    "tmp = pca.inverse_transform(X_r2)\n",
    "mean_squared_error(tmp, X_train2)"
   ]
  },
  {
   "cell_type": "code",
   "execution_count": 83,
   "metadata": {},
   "outputs": [
    {
     "name": "stdout",
     "output_type": "stream",
     "text": [
      "{'train_time': 1.8772590160369873, 'train_acc': 0.7813352636561056, 'test_acc': 0.7741585233441911, 'train_score_time': 0.0042879581451416016, 'test_score_time': 0.0023729801177978516, 'cv_scores_train': array([0.7814588 , 0.7814588 , 0.7811804 , 0.7811804 , 0.78139794]), 'cv_scores_test': array([0.77411273, 0.77411273, 0.77411273, 0.77443609, 0.77401838])}\n",
      "{'train_time': 2.6026759147644043, 'train_acc': 0.7813352636561056, 'test_acc': 0.7741585233441911, 'train_score_time': 0.003864288330078125, 'test_score_time': 0.002179861068725586, 'cv_scores_train': array([0.7814588 , 0.7814588 , 0.7811804 , 0.7811804 , 0.78139794]), 'cv_scores_test': array([0.77411273, 0.77411273, 0.77411273, 0.77443609, 0.77401838])}\n"
     ]
    }
   ],
   "source": [
    "pca = PCA(n_components=2, random_state=10)\n",
    "X_r2 = pca.fit_transform(X_train2)\n",
    "X_r_test2 = pca.transform(X_test2)\n",
    "\n",
    "kmean_2 = KMeans(n_clusters=2, random_state=0).fit(X_r2)\n",
    "centers = kmean_2.cluster_centers_\n",
    "y_pred = kmean_2.predict(X_r2)\n",
    "y_pred_test = kmean_2.predict(X_r_test2)\n",
    "\n",
    "nn_classifier = MLPClassifier(hidden_layer_sizes=(5, 5, 5), activation='relu', solver='adam', alpha=0.0001, random_state=1)\n",
    "nn_stats_pca_ds2 = train_and_get_stats(nn_classifier, X_r2, Y_train2, X_r_test2, Y_test2)\n",
    "print(nn_stats_pca_ds2)\n",
    "\n",
    "\n",
    "X_r2 = np.hstack((X_r2, y_pred[..., None]))\n",
    "X_r_test2 = np.hstack((X_r_test2, y_pred_test[..., None]))\n",
    "nn_classifier = MLPClassifier(hidden_layer_sizes=(5, 5, 5), activation='relu', solver='adam', alpha=0.0001, random_state=1)\n",
    "nn_stats_pca_kmeans_ds2 = train_and_get_stats(nn_classifier, X_r2, Y_train2, X_r_test2, Y_test2)\n",
    "print(nn_stats_pca_kmeans_ds2)\n"
   ]
  },
  {
   "cell_type": "markdown",
   "metadata": {},
   "source": [
    "# Independent component analysis"
   ]
  },
  {
   "cell_type": "markdown",
   "metadata": {},
   "source": [
    "## Dataset 1"
   ]
  },
  {
   "cell_type": "code",
   "execution_count": null,
   "metadata": {
    "scrolled": true
   },
   "outputs": [],
   "source": [
    "for i in range(2, 13):\n",
    "    ica = FastICA(n_components=i, random_state=10)\n",
    "    X_r = ica.fit_transform(X_train)\n",
    "    X_r_test = ica.transform(X_test)\n",
    "\n",
    "    for j in range(i):\n",
    "        plt.figure(figsize=(20,20))\n",
    "        for k in range(j+1, i):\n",
    "            plt.scatter(X_r[:, j], X_r[:, k], color=LABEL_COLOR_MAP[k], alpha=.5, label=f'features {j}, {k}')\n",
    "        \n",
    "        if not j == k:\n",
    "            plt.legend()\n",
    "#             plt.show()\n",
    "            plt.savefig(f'images/ica/ds1/scatter/{i}_fig_features_{j}_{k}.png')\n",
    "        plt.close()"
   ]
  },
  {
   "cell_type": "code",
   "execution_count": null,
   "metadata": {},
   "outputs": [],
   "source": [
    "n_components = 2\n",
    "\n",
    "ica = FastICA(n_components=n_components, random_state=10)\n",
    "X_r = ica.fit_transform(X_train)\n",
    "X_r_test = ica.transform(X_test)\n",
    "\n",
    "kmean_1 = KMeans(n_clusters=2, random_state=0).fit(X_r)\n",
    "centers = kmean_1.cluster_centers_\n",
    "y_pred = kmean_1.predict(X_r)\n",
    "\n",
    "y_pred = ['b' if _ == 0 else 'r' for _ in y_pred]\n",
    "for i in range(n_components):\n",
    "    for j in range(i+1, n_components):\n",
    "        plt.figure(figsize=(10,10))\n",
    "        plt.scatter(X_r[:, i], X_r[:, j], c=y_pred, alpha=0.4)\n",
    "        plt.title(f'Feature {i}, Feature {j}')\n",
    "        plt.plot()\n",
    "        plt.savefig(f'images/ica/ds1/kmeans/fig_features_{i}_{j}.png')\n",
    "#         plt.show()\n",
    "        plt.close()"
   ]
  },
  {
   "cell_type": "code",
   "execution_count": 86,
   "metadata": {},
   "outputs": [
    {
     "name": "stdout",
     "output_type": "stream",
     "text": [
      "{'train_time': 8.127223253250122, 'train_acc': 0.7918675716347778, 'test_acc': 0.7931330999324366, 'train_score_time': 0.019471168518066406, 'test_score_time': 0.010161876678466797, 'cv_scores_train': array([0.79302933, 0.79007985, 0.79176904, 0.7919226 , 0.79422604]), 'cv_scores_test': array([0.79582438, 0.79207617, 0.78931204, 0.79084767, 0.79453317])}\n",
      "{'train_time': 2.582028865814209, 'train_acc': 0.7813352636561056, 'test_acc': 0.7741585233441911, 'train_score_time': 0.0038220882415771484, 'test_score_time': 0.002192974090576172, 'cv_scores_train': array([0.7814588 , 0.7814588 , 0.7811804 , 0.7811804 , 0.78139794]), 'cv_scores_test': array([0.77411273, 0.77411273, 0.77411273, 0.77443609, 0.77401838])}\n"
     ]
    }
   ],
   "source": [
    "ica = FastICA(n_components=2, random_state=10)\n",
    "X_r = ica.fit_transform(X_train)\n",
    "X_r_test = ica.transform(X_test)\n",
    "\n",
    "nn_classifier = MLPClassifier(hidden_layer_sizes=(50), activation='relu', solver='adam', alpha=0.0001, random_state=1)\n",
    "nn_stats_ica_ds1 = train_and_get_stats(nn_classifier, X_r, Y_train, X_r_test, Y_test)\n",
    "print(nn_stats_ica_ds1)\n",
    "\n",
    "kmean_2 = KMeans(n_clusters=2, random_state=0).fit(X_r_test)\n",
    "centers = kmean_2.cluster_centers_\n",
    "y_pred = kmean_2.predict(X_r)\n",
    "y_pred_test = kmean_2.predict(X_r_test)\n",
    "\n",
    "X_r = np.hstack((X_r, y_pred[..., None]))\n",
    "X_r_test = np.hstack((X_r_test, y_pred_test[..., None]))\n",
    "nn_classifier = MLPClassifier(hidden_layer_sizes=(5, 5, 5), activation='relu', solver='adam', alpha=0.0001, random_state=1)\n",
    "nn_stats_ica_kmeans_ds1 = train_and_get_stats(nn_classifier, X_r, Y_train, X_r_test, Y_test)\n",
    "print(nn_stats_pca_kmeans_ds1)\n"
   ]
  },
  {
   "cell_type": "markdown",
   "metadata": {},
   "source": [
    "## Dataset 2"
   ]
  },
  {
   "cell_type": "code",
   "execution_count": null,
   "metadata": {},
   "outputs": [],
   "source": [
    "for i in range(2, 13):\n",
    "    ica = FastICA(n_components=i, random_state=10)\n",
    "    X_r = ica.fit_transform(X_train2)\n",
    "    X_r_test = ica.transform(X_test2)\n",
    "\n",
    "    for j in range(i):\n",
    "        plt.figure(figsize=(20,20))\n",
    "        for k in range(j+1, i):\n",
    "            plt.scatter(X_r[:, j], X_r[:, k], color=LABEL_COLOR_MAP[k], alpha=.5, label=f'features {j}, {k}')\n",
    "        \n",
    "        if not j == k:\n",
    "            plt.legend()\n",
    "#             plt.show()\n",
    "            plt.savefig(f'images/ica/ds2/scatter/{i}_fig_features_{j}_{k}.png')\n",
    "        plt.close()"
   ]
  },
  {
   "cell_type": "code",
   "execution_count": null,
   "metadata": {},
   "outputs": [],
   "source": [
    "n_components = 2\n",
    "\n",
    "ica = FastICA(n_components=n_components, random_state=10)\n",
    "X_r = ica.fit_transform(X_train2)\n",
    "X_r_test = ica.transform(X_test2)\n",
    "\n",
    "kmean_1 = KMeans(n_clusters=2, random_state=0).fit(X_r)\n",
    "centers = kmean_1.cluster_centers_\n",
    "y_pred = kmean_1.predict(X_r)\n",
    "\n",
    "y_pred = ['b' if _ == 0 else 'r' for _ in y_pred]\n",
    "for i in range(n_components):\n",
    "    for j in range(i+1, n_components):\n",
    "        plt.figure(figsize=(10,10))\n",
    "        plt.scatter(X_r[:, i], X_r[:, j], c=y_pred, alpha=0.4)\n",
    "        plt.title(f'Feature {i}, Feature {j}')\n",
    "        plt.plot()\n",
    "        plt.savefig(f'images/ica/ds2/kmeans/fig_features_{i}_{j}.png')\n",
    "#         plt.show()\n",
    "        plt.close()"
   ]
  },
  {
   "cell_type": "code",
   "execution_count": 87,
   "metadata": {},
   "outputs": [
    {
     "name": "stdout",
     "output_type": "stream",
     "text": [
      "{'train_time': 0.9895069599151611, 'train_acc': 0.7813352636561056, 'test_acc': 0.7741585233441911, 'train_score_time': 0.004335880279541016, 'test_score_time': 0.0019979476928710938, 'cv_scores_train': array([0.7814588 , 0.7814588 , 0.7811804 , 0.7811804 , 0.78139794]), 'cv_scores_test': array([0.77411273, 0.77411273, 0.77411273, 0.77443609, 0.77401838])}\n",
      "{'train_time': 1.0514769554138184, 'train_acc': 0.7813352636561056, 'test_acc': 0.7741585233441911, 'train_score_time': 0.0025322437286376953, 'test_score_time': 0.0015158653259277344, 'cv_scores_train': array([0.7814588 , 0.7814588 , 0.7811804 , 0.7811804 , 0.78139794]), 'cv_scores_test': array([0.77411273, 0.77411273, 0.77411273, 0.77443609, 0.77401838])}\n"
     ]
    }
   ],
   "source": [
    "ica = FastICA(n_components=2, random_state=10)\n",
    "X_r2 = ica.fit_transform(X_train2)\n",
    "X_r_test2 = ica.transform(X_test2)\n",
    "\n",
    "nn_classifier = MLPClassifier(hidden_layer_sizes=(5), activation='relu', solver='adam', alpha=0.0001, random_state=1)\n",
    "nn_stats_ica_ds2 = train_and_get_stats(nn_classifier, X_r2, Y_train2, X_r_test2, Y_test2)\n",
    "print(nn_stats_ica_ds2)\n",
    "\n",
    "kmean_2 = KMeans(n_clusters=2, random_state=0).fit(X_r2)\n",
    "centers = kmean_2.cluster_centers_\n",
    "y_pred = kmean_2.predict(X_r2)\n",
    "y_pred_test = kmean_2.predict(X_r_test2)\n",
    "\n",
    "X_r2 = np.hstack((X_r2, y_pred[..., None]))\n",
    "X_r_test2 = np.hstack((X_r_test2, y_pred_test[..., None]))\n",
    "nn_classifier = MLPClassifier(hidden_layer_sizes=(5), activation='relu', solver='adam', alpha=0.0001, random_state=1)\n",
    "nn_stats_ica_kmeans_ds2 = train_and_get_stats(nn_classifier, X_r2, Y_train2, X_r_test2, Y_test2)\n",
    "print(nn_stats_ica_kmeans_ds2)\n"
   ]
  },
  {
   "cell_type": "markdown",
   "metadata": {},
   "source": [
    "# Random projection analysis"
   ]
  },
  {
   "cell_type": "markdown",
   "metadata": {},
   "source": [
    "## Dataset 1"
   ]
  },
  {
   "cell_type": "code",
   "execution_count": null,
   "metadata": {},
   "outputs": [],
   "source": [
    "rpa = GaussianRandomProjection(n_components=5, random_state=10)\n",
    "X_r = rpa.fit_transform(X_train)\n",
    "X_r_test = rpa.transform(X_test)"
   ]
  },
  {
   "cell_type": "code",
   "execution_count": null,
   "metadata": {},
   "outputs": [],
   "source": [
    "for i in range(2, 13):\n",
    "    rpa = GaussianRandomProjection(n_components=2)\n",
    "    X_r = rpa.fit_transform(X_train)\n",
    "    X_r_test = rpa.transform(X_test)\n",
    "\n",
    "    for j in range(i):\n",
    "        plt.figure(figsize=(20,20))\n",
    "        for k in range(j+1, i):\n",
    "            plt.scatter(X_r[:, 0], X_r[:, 1], color=LABEL_COLOR_MAP[k], alpha=.5, label=f'features {j}, {k}')\n",
    "        \n",
    "            if not j == k:\n",
    "                plt.legend()\n",
    "        #             plt.show()\n",
    "                plt.savefig(f'images/rca/ds1/scatter/{i}_fig_features_{j}_{k}.png')\n",
    "            plt.close()"
   ]
  },
  {
   "cell_type": "code",
   "execution_count": null,
   "metadata": {},
   "outputs": [],
   "source": [
    "n_components = 2\n",
    "\n",
    "rpa = GaussianRandomProjection(n_components=n_components)\n",
    "X_r = rpa.fit_transform(X_train)\n",
    "X_r_test = rpa.transform(X_test)\n",
    "\n",
    "kmean_1 = KMeans(n_clusters=2, random_state=0).fit(X_r)\n",
    "centers = kmean_1.cluster_centers_\n",
    "y_pred = kmean_1.predict(X_r)\n",
    "\n",
    "y_pred = ['b' if _ == 0 else 'r' for _ in y_pred]\n",
    "for i in range(n_components):\n",
    "    for j in range(i+1, n_components):\n",
    "        plt.figure(figsize=(10,10))\n",
    "        plt.scatter(X_r[:, i], X_r[:, j], c=y_pred, alpha=0.4)\n",
    "        plt.title(f'Feature {i}, Feature {j}')\n",
    "        plt.plot()\n",
    "        plt.savefig(f'images/rca/ds1/kmeans/fig_features_{i}_{j}.png')\n",
    "#         plt.show()\n",
    "        plt.close()"
   ]
  },
  {
   "cell_type": "code",
   "execution_count": 88,
   "metadata": {},
   "outputs": [
    {
     "name": "stdout",
     "output_type": "stream",
     "text": [
      "{'train_time': 7.599787950515747, 'train_acc': 0.7894106446362212, 'test_acc': 0.7911676186966402, 'train_score_time': 0.022433996200561523, 'test_score_time': 0.024550199508666992, 'cv_scores_train': array([0.79287579, 0.78961916, 0.79084767, 0.79207617, 0.79361179]), 'cv_scores_test': array([0.79244704, 0.79207617, 0.78931204, 0.78624079, 0.79023342])}\n",
      "{'train_time': 2.582028865814209, 'train_acc': 0.7813352636561056, 'test_acc': 0.7741585233441911, 'train_score_time': 0.0038220882415771484, 'test_score_time': 0.002192974090576172, 'cv_scores_train': array([0.7814588 , 0.7814588 , 0.7811804 , 0.7811804 , 0.78139794]), 'cv_scores_test': array([0.77411273, 0.77411273, 0.77411273, 0.77443609, 0.77401838])}\n"
     ]
    }
   ],
   "source": [
    "rpa = GaussianRandomProjection(n_components=2, random_state=10)\n",
    "X_r = rpa.fit_transform(X_train)\n",
    "X_r_test = rpa.transform(X_test)\n",
    "\n",
    "nn_classifier = MLPClassifier(hidden_layer_sizes=(50), activation='relu', solver='adam', alpha=0.0001, random_state=1)\n",
    "nn_stats_rpa_ds1 = train_and_get_stats(nn_classifier, X_r, Y_train, X_r_test, Y_test)\n",
    "print(nn_stats_rpa_ds1)\n",
    "\n",
    "kmean_2 = KMeans(n_clusters=2, random_state=0).fit(X_r)\n",
    "centers = kmean_2.cluster_centers_\n",
    "y_pred = kmean_2.predict(X_r)\n",
    "y_pred_test = kmean_2.predict(X_r_test)\n",
    "\n",
    "X_r = np.hstack((X_r, y_pred[..., None]))\n",
    "X_r_test = np.hstack((X_r_test, y_pred_test[..., None]))\n",
    "nn_classifier = MLPClassifier(hidden_layer_sizes=(50), activation='relu', solver='adam', alpha=0.0001, random_state=1)\n",
    "nn_stats_rpa_kmeans_ds1 = train_and_get_stats(nn_classifier, X_r, Y_train, X_r_test, Y_test)\n",
    "print(nn_stats_pca_kmeans_ds1)\n"
   ]
  },
  {
   "cell_type": "markdown",
   "metadata": {},
   "source": [
    "## Dataset 2"
   ]
  },
  {
   "cell_type": "code",
   "execution_count": null,
   "metadata": {},
   "outputs": [],
   "source": [
    "rpa = GaussianRandomProjection(n_components=10, random_state=10)\n",
    "X_r2 = rpa.fit_transform(X_train2)\n",
    "X_r_test2 = rpa.transform(X_test2)"
   ]
  },
  {
   "cell_type": "code",
   "execution_count": null,
   "metadata": {},
   "outputs": [],
   "source": [
    "for i in range(2, 13):\n",
    "    rpa = GaussianRandomProjection(n_components=i, random_state=10)\n",
    "    X_r2 = rpa.fit_transform(X_train2)\n",
    "    X_r_test2 = rpa.transform(X_test2)\n",
    "\n",
    "    for j in range(i):\n",
    "        plt.figure(figsize=(20,20))\n",
    "        for k in range(j+1, i):\n",
    "            plt.scatter(X_r2[:, j], X_r2[:, k], color=LABEL_COLOR_MAP[k], alpha=.5, label=f'features {j}, {k}')\n",
    "        \n",
    "        if not j == k:\n",
    "            plt.legend()\n",
    "#             plt.show()\n",
    "            plt.savefig(f'images/rca/ds2/scatter/{i}_fig_features_{j}_{k}.png')\n",
    "        plt.close()"
   ]
  },
  {
   "cell_type": "code",
   "execution_count": null,
   "metadata": {},
   "outputs": [],
   "source": [
    "n_components = 2\n",
    "\n",
    "rpa = GaussianRandomProjection(n_components=n_components, random_state=10)\n",
    "X_r = rpa.fit_transform(X_train2)\n",
    "X_r_test = rpa.transform(X_test2)\n",
    "\n",
    "kmean_1 = KMeans(n_clusters=2, random_state=0).fit(X_r)\n",
    "centers = kmean_1.cluster_centers_\n",
    "y_pred = kmean_1.predict(X_r)\n",
    "\n",
    "y_pred = ['b' if _ == 0 else 'r' for _ in y_pred]\n",
    "for i in range(n_components):\n",
    "    for j in range(i+1, n_components):\n",
    "        plt.figure(figsize=(10,10))\n",
    "        plt.scatter(X_r[:, i], X_r[:, j], c=y_pred, alpha=0.4)\n",
    "        plt.title(f'Feature {i}, Feature {j}')\n",
    "#         plt.plot()\n",
    "        plt.savefig(f'images/rca/ds2/kmeans/fig_features_{i}_{j}.png')\n",
    "        plt.show()\n",
    "        plt.close()"
   ]
  },
  {
   "cell_type": "code",
   "execution_count": 89,
   "metadata": {},
   "outputs": [
    {
     "name": "stdout",
     "output_type": "stream",
     "text": [
      "{'train_time': 0.48073792457580566, 'train_acc': 0.7813352636561056, 'test_acc': 0.7741585233441911, 'train_score_time': 0.0016701221466064453, 'test_score_time': 0.001322031021118164, 'cv_scores_train': array([0.7814588 , 0.7814588 , 0.7811804 , 0.7811804 , 0.78139794]), 'cv_scores_test': array([0.77411273, 0.77411273, 0.77411273, 0.77443609, 0.77401838])}\n",
      "{'train_time': 1.3732340335845947, 'train_acc': 0.7813352636561056, 'test_acc': 0.7741585233441911, 'train_score_time': 0.002507925033569336, 'test_score_time': 0.001493215560913086, 'cv_scores_train': array([0.7814588 , 0.7814588 , 0.7811804 , 0.7811804 , 0.78139794]), 'cv_scores_test': array([0.77411273, 0.77411273, 0.77411273, 0.77443609, 0.77401838])}\n"
     ]
    }
   ],
   "source": [
    "rpa = GaussianRandomProjection(n_components=2, random_state=10)\n",
    "X_r2 = rpa.fit_transform(X_train2)\n",
    "X_r_test2 = rpa.transform(X_test2)\n",
    "\n",
    "nn_classifier = MLPClassifier(hidden_layer_sizes=(1), activation='relu', solver='adam', alpha=0.0001, random_state=1)\n",
    "nn_stats_rpa_ds2 = train_and_get_stats(nn_classifier, X_r2, Y_train2, X_r_test2, Y_test2)\n",
    "print(nn_stats_rpa_ds2)\n",
    "\n",
    "kmean_2 = KMeans(n_clusters=2, random_state=0).fit(X_r2)\n",
    "centers = kmean_2.cluster_centers_\n",
    "y_pred = kmean_2.predict(X_r2)\n",
    "y_pred_test = kmean_2.predict(X_r_test2)\n",
    "\n",
    "X_r2 = np.hstack((X_r2, y_pred[..., None]))\n",
    "X_r_test2 = np.hstack((X_r_test2, y_pred_test[..., None]))\n",
    "nn_classifier = MLPClassifier(hidden_layer_sizes=(5), activation='relu', solver='adam', alpha=0.0001, random_state=1)\n",
    "nn_stats_rpa_kmeans_ds2 = train_and_get_stats(nn_classifier, X_r2, Y_train2, X_r_test2, Y_test2)\n",
    "print(nn_stats_rpa_kmeans_ds2)\n"
   ]
  },
  {
   "cell_type": "markdown",
   "metadata": {},
   "source": [
    "# Linear Discriminant Analysis"
   ]
  },
  {
   "cell_type": "markdown",
   "metadata": {},
   "source": [
    "## Dataset 1"
   ]
  },
  {
   "cell_type": "code",
   "execution_count": 19,
   "metadata": {},
   "outputs": [],
   "source": [
    "from sklearn.discriminant_analysis import LinearDiscriminantAnalysis\n",
    "rpa = LinearDiscriminantAnalysis(n_components=1)\n",
    "X_r2 = rpa.fit_transform(X_train, Y_train)\n",
    "\n",
    "plt.figure(figsize=(20,20))\n",
    "plt.scatter(X_r2, X_r2, color='b', alpha=.25, label=f'features {0}, {0}')\n",
    "# plt.show()\n",
    "plt.savefig(f'images/other/ds1/scatter/fig_features_{0}_{0}.png')\n",
    "plt.close()\n",
    "\n",
    "kmean_1 = KMeans(n_clusters=2, random_state=0).fit(X_r2)\n",
    "y_pred = kmean_1.predict(X_r2)\n",
    "\n",
    "y_pred = ['b' if _ == 0 else 'r' for _ in y_pred]\n",
    "plt.figure(figsize=(10,10))\n",
    "plt.scatter(X_r2, X_r2, c=y_pred, alpha=0.4)\n",
    "plt.title(f'Feature {0}, Feature {0}')\n",
    "plt.plot()\n",
    "plt.savefig(f'images/other/ds1/kmeans/fig_features_{0}_{0}.png')\n",
    "# plt.show()\n",
    "plt.close()"
   ]
  },
  {
   "cell_type": "code",
   "execution_count": 90,
   "metadata": {},
   "outputs": [
    {
     "name": "stdout",
     "output_type": "stream",
     "text": [
      "{'train_time': 6.557997941970825, 'train_acc': 0.7998525843800867, 'test_acc': 0.7971254836926479, 'train_score_time': 0.018159151077270508, 'test_score_time': 0.009395360946655273, 'cv_scores_train': array([0.79579303, 0.7972973 , 0.80359337, 0.7972973 , 0.80528256]), 'cv_scores_test': array([0.79889469, 0.80251843, 0.78531941, 0.80251843, 0.79637592])}\n",
      "{'train_time': 2.582028865814209, 'train_acc': 0.7813352636561056, 'test_acc': 0.7741585233441911, 'train_score_time': 0.0038220882415771484, 'test_score_time': 0.002192974090576172, 'cv_scores_train': array([0.7814588 , 0.7814588 , 0.7811804 , 0.7811804 , 0.78139794]), 'cv_scores_test': array([0.77411273, 0.77411273, 0.77411273, 0.77443609, 0.77401838])}\n"
     ]
    }
   ],
   "source": [
    "rpa = LinearDiscriminantAnalysis(n_components=1)\n",
    "X_r = rpa.fit_transform(X_train, Y_train)\n",
    "X_r_test = rpa.transform(X_test)\n",
    "\n",
    "nn_classifier = MLPClassifier(hidden_layer_sizes=(50), activation='relu', solver='adam', alpha=0.0001, random_state=1)\n",
    "nn_stats_lda_ds1 = train_and_get_stats(nn_classifier, X_r, Y_train, X_r_test, Y_test)\n",
    "print(nn_stats_lda_ds1)\n",
    "\n",
    "kmean_2 = KMeans(n_clusters=2, random_state=0).fit(X_r)\n",
    "centers = kmean_2.cluster_centers_\n",
    "y_pred = kmean_2.predict(X_r)\n",
    "y_pred_test = kmean_2.predict(X_r_test)\n",
    "\n",
    "\n",
    "X_r = np.hstack((X_r, y_pred[..., None]))\n",
    "X_r_test = np.hstack((X_r_test, y_pred_test[..., None]))\n",
    "nn_classifier = MLPClassifier(hidden_layer_sizes=(50), activation='relu', solver='adam', alpha=0.0001, random_state=1)\n",
    "nn_stats_lda_kmeans_ds1 = train_and_get_stats(nn_classifier, X_r, Y_train, X_r_test, Y_test)\n",
    "print(nn_stats_pca_kmeans_ds1)\n"
   ]
  },
  {
   "cell_type": "markdown",
   "metadata": {},
   "source": [
    "## Dataset 2"
   ]
  },
  {
   "cell_type": "code",
   "execution_count": 21,
   "metadata": {},
   "outputs": [],
   "source": [
    "from sklearn.discriminant_analysis import LinearDiscriminantAnalysis\n",
    "rpa = LinearDiscriminantAnalysis(n_components=1)\n",
    "X_r2 = rpa.fit_transform(X_train2, Y_train2)\n",
    "X_r_test2 = rpa.transform(X_test2)\n",
    "\n",
    "plt.figure(figsize=(20,20))\n",
    "plt.scatter(X_r2, X_r2, color='b', alpha=.25, label=f'features {0}, {0}')\n",
    "# plt.show()\n",
    "plt.savefig(f'images/other/ds2/scatter/fig_features_{0}_{0}.png')\n",
    "plt.close()\n",
    "\n",
    "kmean_1 = KMeans(n_clusters=2, random_state=0).fit(X_r2)\n",
    "y_pred = kmean_1.predict(X_r2)\n",
    "\n",
    "y_pred = ['b' if _ == 0 else 'r' for _ in y_pred]\n",
    "plt.figure(figsize=(10,10))\n",
    "plt.scatter(X_r2, X_r2, c=y_pred, alpha=0.4)\n",
    "plt.title(f'Feature {0}, Feature {0}')\n",
    "plt.plot()\n",
    "plt.savefig(f'images/other/ds2/kmeans/fig_features_{0}_{0}.png')\n",
    "# plt.show()\n",
    "plt.close()"
   ]
  },
  {
   "cell_type": "code",
   "execution_count": 91,
   "metadata": {},
   "outputs": [
    {
     "name": "stdout",
     "output_type": "stream",
     "text": [
      "{'train_time': 1.0587739944458008, 'train_acc': 0.7901887632941701, 'test_acc': 0.7844316378518333, 'train_score_time': 0.0028040409088134766, 'test_score_time': 0.001519918441772461, 'cv_scores_train': array([0.7814588 , 0.7814588 , 0.78674833, 0.7811804 , 0.78139794]), 'cv_scores_test': array([0.77411273, 0.77411273, 0.77411273, 0.77443609, 0.77401838])}\n",
      "{'train_time': 1.1669797897338867, 'train_acc': 0.789687621805223, 'test_acc': 0.7835964252902363, 'train_score_time': 0.0028209686279296875, 'test_score_time': 0.001615762710571289, 'cv_scores_train': array([0.79175947, 0.79120267, 0.78619154, 0.78646993, 0.79197995]), 'cv_scores_test': array([0.78496868, 0.78789144, 0.78997912, 0.78362573, 0.78070175])}\n"
     ]
    }
   ],
   "source": [
    "rpa = LinearDiscriminantAnalysis(n_components=1)\n",
    "X_r2 = rpa.fit_transform(X_train2, Y_train2)\n",
    "X_r_test2 = rpa.transform(X_test2)\n",
    "\n",
    "nn_classifier = MLPClassifier(hidden_layer_sizes=(1), activation='relu', solver='adam', alpha=0.0001, random_state=1)\n",
    "nn_stats_lda_ds2 = train_and_get_stats(nn_classifier, X_r2, Y_train2, X_r_test2, Y_test2)\n",
    "print(nn_stats_lda_ds2)\n",
    "\n",
    "kmean_2 = KMeans(n_clusters=2, random_state=0).fit(X_r2)\n",
    "centers = kmean_2.cluster_centers_\n",
    "y_pred = kmean_2.predict(X_r2)\n",
    "y_pred_test = kmean_2.predict(X_r_test2)\n",
    "\n",
    "X_r2 = np.hstack((X_r2, y_pred[..., None]))\n",
    "X_r_test2 = np.hstack((X_r_test2, y_pred_test[..., None]))\n",
    "nn_classifier = MLPClassifier(hidden_layer_sizes=(5), activation='relu', solver='adam', alpha=0.0001, random_state=1)\n",
    "nn_stats_lda_kmeans_ds2 = train_and_get_stats(nn_classifier, X_r2, Y_train2, X_r_test2, Y_test2)\n",
    "print(nn_stats_lda_kmeans_ds2)\n"
   ]
  },
  {
   "cell_type": "markdown",
   "metadata": {},
   "source": [
    "# Neural Network stats"
   ]
  },
  {
   "cell_type": "code",
   "execution_count": 23,
   "metadata": {},
   "outputs": [
    {
     "name": "stdout",
     "output_type": "stream",
     "text": [
      "{'train_time': 3.6209380626678467, 'train_acc': 0.7918982832222597, 'test_acc': 0.7931330999324366, 'train_score_time': 0.011757850646972656, 'test_score_time': 0.0070819854736328125, 'cv_scores_train': array([0.79348994, 0.79115479, 0.79207617, 0.7919226 , 0.79530098]), 'cv_scores_test': array([0.79582438, 0.79269042, 0.79054054, 0.79146192, 0.79637592])}\n",
      "{'train_time': 1.9683339595794678, 'train_acc': 0.7813352636561056, 'test_acc': 0.7741585233441911, 'train_score_time': 0.004770040512084961, 'test_score_time': 0.0023527145385742188, 'cv_scores_train': array([0.7814588 , 0.7814588 , 0.7811804 , 0.7811804 , 0.78139794]), 'cv_scores_test': array([0.77411273, 0.77411273, 0.77411273, 0.77443609, 0.77401838])}\n"
     ]
    }
   ],
   "source": [
    "print(nn_stats_pca_ds1)\n",
    "print(nn_stats_pca_ds2)"
   ]
  },
  {
   "cell_type": "code",
   "execution_count": 24,
   "metadata": {},
   "outputs": [
    {
     "name": "stdout",
     "output_type": "stream",
     "text": [
      "{'train_time': 6.661478042602539, 'train_acc': 0.7918675716347778, 'test_acc': 0.7931330999324366, 'train_score_time': 0.02192211151123047, 'test_score_time': 0.01293182373046875, 'cv_scores_train': array([0.79302933, 0.79007985, 0.79176904, 0.7919226 , 0.79422604]), 'cv_scores_test': array([0.79582438, 0.79207617, 0.78931204, 0.79084767, 0.79453317])}\n",
      "{'train_time': 6.661478042602539, 'train_acc': 0.7918675716347778, 'test_acc': 0.7931330999324366, 'train_score_time': 0.02192211151123047, 'test_score_time': 0.01293182373046875, 'cv_scores_train': array([0.79302933, 0.79007985, 0.79176904, 0.7919226 , 0.79422604]), 'cv_scores_test': array([0.79582438, 0.79207617, 0.78931204, 0.79084767, 0.79453317])}\n"
     ]
    }
   ],
   "source": [
    "print(nn_stats_ica_ds1)\n",
    "print(nn_stats_ica_ds2)"
   ]
  },
  {
   "cell_type": "code",
   "execution_count": 26,
   "metadata": {},
   "outputs": [
    {
     "name": "stdout",
     "output_type": "stream",
     "text": [
      "{'train_time': 7.361087322235107, 'train_acc': 0.7894106446362212, 'test_acc': 0.7911676186966402, 'train_score_time': 0.020005226135253906, 'test_score_time': 0.010557889938354492, 'cv_scores_train': array([0.79287579, 0.78961916, 0.79084767, 0.79207617, 0.79361179]), 'cv_scores_test': array([0.79244704, 0.79207617, 0.78931204, 0.78624079, 0.79023342])}\n",
      "{'train_time': 0.7304558753967285, 'train_acc': 0.7813352636561056, 'test_acc': 0.7741585233441911, 'train_score_time': 0.0017039775848388672, 'test_score_time': 0.0017499923706054688, 'cv_scores_train': array([0.7814588 , 0.7814588 , 0.7811804 , 0.7811804 , 0.78139794]), 'cv_scores_test': array([0.77411273, 0.77411273, 0.77411273, 0.77443609, 0.77401838])}\n"
     ]
    }
   ],
   "source": [
    "print(nn_stats_rpa_ds1)\n",
    "print(nn_stats_rpa_ds2)"
   ]
  },
  {
   "cell_type": "code",
   "execution_count": 28,
   "metadata": {},
   "outputs": [
    {
     "name": "stdout",
     "output_type": "stream",
     "text": [
      "{'train_time': 7.267394065856934, 'train_acc': 0.7998525843800867, 'test_acc': 0.7971254836926479, 'train_score_time': 0.019817113876342773, 'test_score_time': 0.013002157211303711, 'cv_scores_train': array([0.79579303, 0.7972973 , 0.80359337, 0.7972973 , 0.80528256]), 'cv_scores_test': array([0.79889469, 0.80251843, 0.78531941, 0.80251843, 0.79637592])}\n",
      "{'train_time': 7.267394065856934, 'train_acc': 0.7998525843800867, 'test_acc': 0.7971254836926479, 'train_score_time': 0.019817113876342773, 'test_score_time': 0.013002157211303711, 'cv_scores_train': array([0.79579303, 0.7972973 , 0.80359337, 0.7972973 , 0.80528256]), 'cv_scores_test': array([0.79889469, 0.80251843, 0.78531941, 0.80251843, 0.79637592])}\n"
     ]
    }
   ],
   "source": [
    "print(nn_stats_lda_ds1)\n",
    "print(nn_stats_lda_ds1)"
   ]
  },
  {
   "cell_type": "code",
   "execution_count": 33,
   "metadata": {},
   "outputs": [
    {
     "name": "stdout",
     "output_type": "stream",
     "text": [
      "{'train_time': 8.596255540847778, 'train_acc': 0.8134578176345936, 'test_acc': 0.8146919722375775, 'train_score_time': 0.018999576568603516, 'test_score_time': 0.010000944137573242, 'cv_scores_train': array([0.79364348, 0.79299754, 0.70915233, 0.79806511, 0.78547297]), 'cv_scores_test': array([0.7979736 , 0.79422604, 0.24017199, 0.79514742, 0.78869779])}\n",
      "{'train_time': 2.3473377227783203, 'train_acc': 0.7601759563450081, 'test_acc': 0.7450931262006181, 'train_score_time': 0.011999368667602539, 'test_score_time': 0.007999897003173828, 'cv_scores_train': array([0.73969933, 0.76169265, 0.7497216 , 0.6795657 , 0.76886661]), 'cv_scores_test': array([0.55574113, 0.71148225, 0.72818372, 0.58187135, 0.74686717])}\n"
     ]
    }
   ],
   "source": [
    "original_nn_states_ds1 = {'train_time': 8.596255540847778, 'train_acc': 0.8134578176345936, 'test_acc': 0.8146919722375775, 'train_score_time': 0.018999576568603516, 'test_score_time': 0.010000944137573242, 'cv_scores_train': np.array([0.79364348, 0.79299754, 0.70915233, 0.79806511, 0.78547297]), 'cv_scores_test': np.array([0.7979736 , 0.79422604, 0.24017199, 0.79514742, 0.78869779])}\n",
    "original_nn_states_ds2 = {'train_time': 2.3473377227783203, 'train_acc': 0.7601759563450081, 'test_acc': 0.7450931262006181, 'train_score_time': 0.011999368667602539, 'test_score_time': 0.007999897003173828, 'cv_scores_train': np.array([0.73969933, 0.76169265, 0.7497216 , 0.6795657 , 0.76886661]), 'cv_scores_test': np.array([0.55574113, 0.71148225, 0.72818372, 0.58187135, 0.74686717])}\n",
    "\n",
    "print(original_nn_states_ds1)\n",
    "print(original_nn_states_ds2)\n"
   ]
  },
  {
   "cell_type": "code",
   "execution_count": 46,
   "metadata": {
    "scrolled": false
   },
   "outputs": [
    {
     "data": {
      "image/png": "[encoded data removed]",
      "text/plain": [
       "<Figure size 1080x1080 with 1 Axes>"
      ]
     },
     "metadata": {
      "needs_background": "light"
     },
     "output_type": "display_data"
    },
    {
     "data": {
      "image/png": "[encoded data removed]",
      "text/plain": [
       "<Figure size 1080x1080 with 1 Axes>"
      ]
     },
     "metadata": {
      "needs_background": "light"
     },
     "output_type": "display_data"
    },
    {
     "data": {
      "image/png": "[encoded data removed]",
      "text/plain": [
       "<Figure size 1080x1080 with 1 Axes>"
      ]
     },
     "metadata": {
      "needs_background": "light"
     },
     "output_type": "display_data"
    },
    {
     "data": {
      "image/png": "[encoded data removed]",
      "text/plain": [
       "<Figure size 1080x1080 with 1 Axes>"
      ]
     },
     "metadata": {
      "needs_background": "light"
     },
     "output_type": "display_data"
    }
   ],
   "source": [
    "exp1 = [ \n",
    "    original_nn_states_ds1,\n",
    "    nn_stats_pca_ds1,\n",
    "    nn_stats_ica_ds1,\n",
    "    nn_stats_rpa_ds1,\n",
    "    nn_stats_lda_ds1\n",
    "]\n",
    "exp2 = [ \n",
    "    original_nn_states_ds2,\n",
    "    nn_stats_pca_ds2,\n",
    "    nn_stats_ica_ds2,\n",
    "    nn_stats_rpa_ds2,\n",
    "    nn_stats_lda_ds2\n",
    "]\n",
    "\n",
    "objects = ('NN no dimension reduction (Baseline)', 'PCA', 'ICA', 'RCA', 'LDA')\n",
    "y_pos = np.arange(len(objects))\n",
    "\n",
    "###########################################\n",
    "\n",
    "performance_exp1 = []\n",
    "performance_exp2 = []\n",
    "for (item1, item2) in zip(exp1, exp2):\n",
    "    performance_exp1.append(round(item1['train_acc'], 4))\n",
    "    performance_exp2.append(round(item2['train_acc'], 4))\n",
    "    \n",
    "performance_exp1,\n",
    "\n",
    "plt.figure(figsize=(15, 15))\n",
    "plt.ylim(0.2, 1.0)\n",
    "plt.bar(y_pos-0.2, performance_exp1, 0.4, align='center', alpha=0.8, label=\"Dataset 1\")\n",
    "plt.bar(y_pos+0.2, performance_exp2, 0.4, align='center', alpha=0.8, label=\"Dataset 2\")\n",
    "plt.legend()\n",
    "plt.xticks(y_pos, objects, fontsize=13)\n",
    "plt.ylabel('Accuracy (Ratio)', fontsize=13)\n",
    "plt.title('Model Accuracy -- On training set')\n",
    "for index, value in enumerate(zip(performance_exp1, performance_exp2)):\n",
    "    plt.text(index-0.38, value[0]-0.015, str(value[0]), fontsize=14)\n",
    "    plt.text(index+0.02, value[1]-0.015, str(value[1]), fontsize=14)\n",
    "plt.show()\n",
    "\n",
    "###########################################\n",
    "\n",
    "performance_exp1 = []\n",
    "performance_exp2 = []\n",
    "for (item1, item2) in zip(exp1, exp2):\n",
    "    performance_exp1.append(round(item1['test_acc'], 4))\n",
    "    performance_exp2.append(round(item2['test_acc'], 4))\n",
    "\n",
    "plt.figure(figsize=(15, 15))\n",
    "plt.ylim(0.2, 0.9)\n",
    "plt.bar(y_pos-0.2, performance_exp1, 0.4, align='center', alpha=0.8, label=\"Dataset 1\")\n",
    "plt.bar(y_pos+0.2, performance_exp2, 0.4, align='center', alpha=0.8, label=\"Dataset 2\")\n",
    "plt.legend()\n",
    "plt.xticks(y_pos, objects, fontsize=13)\n",
    "plt.ylabel('Accuracy (Ratio)', fontsize=13)\n",
    "plt.title('Model Accuracy -- On testing set')\n",
    "for index, value in enumerate(zip(performance_exp1, performance_exp2)):\n",
    "    plt.text(index-0.38, value[0]+0.005, str(value[0]), fontsize=14)\n",
    "    plt.text(index+0.02, value[1]+0.005, str(value[1]), fontsize=14)\n",
    "plt.show()\n",
    "\n",
    "###########################################\n",
    "\n",
    "performance_exp1 = []\n",
    "performance_exp2 = []\n",
    "for (item1, item2) in zip(exp1, exp2):\n",
    "    performance_exp1.append(round(item1['train_time'], 2))\n",
    "    performance_exp2.append(round(item2['train_time'], 2))\n",
    "\n",
    "plt.figure(figsize=(15, 15))\n",
    "lim=9\n",
    "plt.xlim(0, lim)\n",
    "plt.barh(y_pos-0.2, performance_exp1, 0.4, align='center', alpha=0.8, label=\"Dataset 1\")\n",
    "plt.barh(y_pos+0.2, performance_exp2, 0.4, align='center', alpha=0.8, label=\"Dataset 2\")\n",
    "plt.legend()\n",
    "plt.yticks(y_pos, objects, fontsize=13)\n",
    "plt.xlabel('train_time (seconds)', fontsize=13)\n",
    "plt.title('Model Training time')\n",
    "for index, value in enumerate(zip(performance_exp1, performance_exp2)):\n",
    "    plt.text(min(value[0], lim)+0.02, index-0.2, str(value[0]), fontsize=14)\n",
    "    plt.text(min(value[1], lim)+0.02, index+0.2, str(value[1]), fontsize=14)\n",
    "plt.show()\n",
    "\n",
    "###########################################\n",
    "\n",
    "performance_exp1 = []\n",
    "performance_exp2 = []\n",
    "for (item1, item2) in zip(exp1, exp2):\n",
    "    performance_exp1.append(round(item1['test_score_time'], 4))\n",
    "    performance_exp2.append(round(item2['test_score_time'], 4))\n",
    "\n",
    "lim=0.05\n",
    "plt.figure(figsize=(15, 15))\n",
    "plt.xlim(0, lim)\n",
    "plt.barh(y_pos-0.2, performance_exp1, 0.4, align='center', alpha=0.8, label=\"Dataset 1\")\n",
    "plt.barh(y_pos+0.2, performance_exp2, 0.4, align='center', alpha=0.8, label=\"Experiment 2\")\n",
    "plt.legend()\n",
    "plt.yticks(y_pos, objects, fontsize=13)\n",
    "plt.xlabel('prediction_time (seconds)', fontsize=13)\n",
    "plt.title('Model Prediction time')\n",
    "for index, value in enumerate(zip(performance_exp1, performance_exp2)):\n",
    "    plt.text(min(value[0], lim)+0.0003, index-0.2, str(value[0]), fontsize=14)\n",
    "    plt.text(min(value[1], lim)+0.0003, index+0.2, str(value[1]), fontsize=14)\n",
    "plt.show()"
   ]
  }
 ],
 "metadata": {
  "kernelspec": {
   "display_name": "Python 3",
   "language": "python",
   "name": "python3"
  },
  "language_info": {
   "codemirror_mode": {
    "name": "ipython",
    "version": 3
   },
   "file_extension": ".py",
   "mimetype": "text/x-python",
   "name": "python",
   "nbconvert_exporter": "python",
   "pygments_lexer": "ipython3",
   "version": "3.8.5"
  }
 },
 "nbformat": 4,
 "nbformat_minor": 4
}
